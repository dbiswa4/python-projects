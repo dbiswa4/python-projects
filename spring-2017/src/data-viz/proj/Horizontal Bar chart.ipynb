{
 "cells": [
  {
   "cell_type": "code",
   "execution_count": 1,
   "metadata": {
    "collapsed": true
   },
   "outputs": [],
   "source": [
    "from bokeh.plotting import figure, output_file, show\n",
    " \n",
    " # prepare some data\n",
    " # for a bar chart, the y axis positions where there are bars are storedin a list\n",
    " # the length of each bar is in a second list in corresponding order\n",
    "y=[1, 2, 3, 4, 5]\n",
    "bar_lengths=[5, 7, 3, 5, 4]\n",
    " \n",
    " # create a new plot with a title and axis labels\n",
    "plot = figure(title=\"Example of a horizontal bar chart\")\n",
    " \n",
    " #render the horizontal bars, with bars at the specified y values\n",
    " #note that colors of any glyph can be represented by hexadecimal color codes\n",
    "plot.hbar(y, left=0, right=bar_lengths, height=0.5, color=\"#CAB2D6\")\n",
    " \n",
    " # output to static HTML file. \n",
    "output_file(\"horizontal_bar.html\", mode=\"inline\")\n",
    " \n",
    " #pop open in the browser\n",
    "show(plot)"
   ]
  },
  {
   "cell_type": "code",
   "execution_count": null,
   "metadata": {
    "collapsed": true
   },
   "outputs": [],
   "source": []
  }
 ],
 "metadata": {
  "kernelspec": {
   "display_name": "Python 3",
   "language": "python",
   "name": "python3"
  },
  "language_info": {
   "codemirror_mode": {
    "name": "ipython",
    "version": 3
   },
   "file_extension": ".py",
   "mimetype": "text/x-python",
   "name": "python",
   "nbconvert_exporter": "python",
   "pygments_lexer": "ipython3",
   "version": "3.6.1"
  }
 },
 "nbformat": 4,
 "nbformat_minor": 2
}
