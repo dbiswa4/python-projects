{
 "cells": [
  {
   "cell_type": "code",
   "execution_count": 1,
   "metadata": {},
   "outputs": [
    {
     "ename": "ImportError",
     "evalue": "No module named bokeh.plotting",
     "output_type": "error",
     "traceback": [
      "\u001b[0;31m---------------------------------------------------------------------------\u001b[0m",
      "\u001b[0;31mImportError\u001b[0m                               Traceback (most recent call last)",
      "\u001b[0;32m<ipython-input-1-1c2be7fe4662>\u001b[0m in \u001b[0;36m<module>\u001b[0;34m()\u001b[0m\n\u001b[0;32m----> 1\u001b[0;31m \u001b[0;32mfrom\u001b[0m \u001b[0mbokeh\u001b[0m\u001b[0;34m.\u001b[0m\u001b[0mplotting\u001b[0m \u001b[0;32mimport\u001b[0m \u001b[0mfigure\u001b[0m\u001b[0;34m,\u001b[0m \u001b[0moutput_file\u001b[0m\u001b[0;34m,\u001b[0m \u001b[0mshow\u001b[0m\u001b[0;34m\u001b[0m\u001b[0m\n\u001b[0m\u001b[1;32m      2\u001b[0m \u001b[0;34m\u001b[0m\u001b[0m\n\u001b[1;32m      3\u001b[0m  \u001b[0;31m# prepare some data\u001b[0m\u001b[0;34m\u001b[0m\u001b[0;34m\u001b[0m\u001b[0m\n\u001b[1;32m      4\u001b[0m  \u001b[0;31m# for a bar chart, the y axis positions where there are bars are storedin a list\u001b[0m\u001b[0;34m\u001b[0m\u001b[0;34m\u001b[0m\u001b[0m\n\u001b[1;32m      5\u001b[0m  \u001b[0;31m# the length of each bar is in a second list in corresponding order\u001b[0m\u001b[0;34m\u001b[0m\u001b[0;34m\u001b[0m\u001b[0m\n",
      "\u001b[0;31mImportError\u001b[0m: No module named bokeh.plotting"
     ]
    }
   ],
   "source": [
    "from bokeh.plotting import figure, output_file, show\n",
    " \n",
    " # prepare some data\n",
    " # for a bar chart, the y axis positions where there are bars are storedin a list\n",
    " # the length of each bar is in a second list in corresponding order\n",
    "y=[1, 2, 3, 4, 5]\n",
    "bar_lengths=[5, 7, 3, 5, 4]\n",
    " \n",
    " # create a new plot with a title and axis labels\n",
    "plot = figure(title=\"Example of a horizontal bar chart\")\n",
    " \n",
    " #render the horizontal bars, with bars at the specified y values\n",
    " #note that colors of any glyph can be represented by hexadecimal color codes\n",
    "plot.hbar(y, left=0, right=bar_lengths, height=0.5, color=\"#CAB2D6\")\n",
    " \n",
    " # output to static HTML file. \n",
    "output_file(\"horizontal_bar.html\", mode=\"inline\")\n",
    " \n",
    " #pop open in the browser\n",
    "show(plot)"
   ]
  },
  {
   "cell_type": "code",
   "execution_count": null,
   "metadata": {
    "collapsed": true
   },
   "outputs": [],
   "source": []
  }
 ],
 "metadata": {
  "kernelspec": {
   "display_name": "Python 2",
   "language": "python",
   "name": "python2"
  },
  "language_info": {
   "codemirror_mode": {
    "name": "ipython",
    "version": 2
   },
   "file_extension": ".py",
   "mimetype": "text/x-python",
   "name": "python",
   "nbconvert_exporter": "python",
   "pygments_lexer": "ipython2",
   "version": "2.7.11"
  }
 },
 "nbformat": 4,
 "nbformat_minor": 1
}
