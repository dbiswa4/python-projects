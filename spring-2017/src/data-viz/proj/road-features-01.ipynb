{
 "cells": [
  {
   "cell_type": "code",
   "execution_count": 2,
   "metadata": {},
   "outputs": [
    {
     "name": "stderr",
     "output_type": "stream",
     "text": [
      "/usr/local/lib/python2.7/site-packages/IPython/html.py:14: ShimWarning: The `IPython.html` package has been deprecated since IPython 4.0. You should import from `notebook` instead. `IPython.html.widgets` has moved to `ipywidgets`.\n",
      "  \"`IPython.html.widgets` has moved to `ipywidgets`.\", ShimWarning)\n"
     ]
    }
   ],
   "source": [
    "import matplotlib.pyplot as plt\n",
    "import pandas as pd\n",
    "import seaborn as sns\n",
    "import numpy as np\n",
    "import random\n",
    "sns.set_style('white')\n",
    "\n",
    "%matplotlib inline"
   ]
  },
  {
   "cell_type": "code",
   "execution_count": 3,
   "metadata": {},
   "outputs": [],
   "source": [
    "# Load raw data into DataFrame using pandas\n",
    "road_features_df_raw = pd.read_csv('Road_features.csv', delimiter=',')"
   ]
  },
  {
   "cell_type": "code",
   "execution_count": 6,
   "metadata": {},
   "outputs": [],
   "source": [
    "#replace NaN with 0\n",
    "road_features_df = road_features_df_raw[~(road_features_df_raw['State'] == 'Total ')].fillna(0)"
   ]
  },
  {
   "cell_type": "code",
   "execution_count": 55,
   "metadata": {},
   "outputs": [
    {
     "data": {
      "text/html": [
       "<div>\n",
       "<table border=\"1\" class=\"dataframe\">\n",
       "  <thead>\n",
       "    <tr style=\"text-align: right;\">\n",
       "      <th></th>\n",
       "      <th>SNo</th>\n",
       "      <th>State</th>\n",
       "      <th>SingleLane-Accident-2014</th>\n",
       "      <th>Single Lane-Killed-2014</th>\n",
       "      <th>SingleLane-Injured-2014</th>\n",
       "      <th>Two Lanes - Accident  - 2014</th>\n",
       "      <th>Two Lanes - Killed  - 2014</th>\n",
       "      <th>Two Lanes - Injured - 2014</th>\n",
       "      <th>3 Lanes or more w.o Median - Accident  - 2014</th>\n",
       "      <th>3 Lanes or more w.o Median - Killed  - 2014</th>\n",
       "      <th>3 Lanes or more w.o Median - Injured - 2014</th>\n",
       "      <th>4 Lanes with Median - Accident  - 2014</th>\n",
       "      <th>4 Lanes with Median - Killed  - 2014</th>\n",
       "      <th>4 Lanes with Median - Injured - 2014</th>\n",
       "    </tr>\n",
       "  </thead>\n",
       "  <tbody>\n",
       "    <tr>\n",
       "      <th>0</th>\n",
       "      <td>1</td>\n",
       "      <td>Andhra Pradesh</td>\n",
       "      <td>8634.0</td>\n",
       "      <td>2958.0</td>\n",
       "      <td>13541.0</td>\n",
       "      <td>10327.0</td>\n",
       "      <td>2994.0</td>\n",
       "      <td>10122.0</td>\n",
       "      <td>1188.0</td>\n",
       "      <td>396.0</td>\n",
       "      <td>1199.0</td>\n",
       "      <td>4291.0</td>\n",
       "      <td>1560.0</td>\n",
       "      <td>5069.0</td>\n",
       "    </tr>\n",
       "    <tr>\n",
       "      <th>1</th>\n",
       "      <td>2</td>\n",
       "      <td>Arunachal Pradesh</td>\n",
       "      <td>90.0</td>\n",
       "      <td>60.0</td>\n",
       "      <td>152.0</td>\n",
       "      <td>115.0</td>\n",
       "      <td>59.0</td>\n",
       "      <td>156.0</td>\n",
       "      <td>0.0</td>\n",
       "      <td>0.0</td>\n",
       "      <td>0.0</td>\n",
       "      <td>0.0</td>\n",
       "      <td>0.0</td>\n",
       "      <td>0.0</td>\n",
       "    </tr>\n",
       "    <tr>\n",
       "      <th>2</th>\n",
       "      <td>3</td>\n",
       "      <td>Assam</td>\n",
       "      <td>3888.0</td>\n",
       "      <td>1217.0</td>\n",
       "      <td>3195.0</td>\n",
       "      <td>2432.0</td>\n",
       "      <td>1035.0</td>\n",
       "      <td>2510.0</td>\n",
       "      <td>56.0</td>\n",
       "      <td>25.0</td>\n",
       "      <td>42.0</td>\n",
       "      <td>768.0</td>\n",
       "      <td>245.0</td>\n",
       "      <td>752.0</td>\n",
       "    </tr>\n",
       "    <tr>\n",
       "      <th>3</th>\n",
       "      <td>4</td>\n",
       "      <td>Bihar</td>\n",
       "      <td>3731.0</td>\n",
       "      <td>1815.0</td>\n",
       "      <td>2475.0</td>\n",
       "      <td>4156.0</td>\n",
       "      <td>2096.0</td>\n",
       "      <td>3092.0</td>\n",
       "      <td>756.0</td>\n",
       "      <td>390.0</td>\n",
       "      <td>485.0</td>\n",
       "      <td>913.0</td>\n",
       "      <td>612.0</td>\n",
       "      <td>588.0</td>\n",
       "    </tr>\n",
       "    <tr>\n",
       "      <th>4</th>\n",
       "      <td>5</td>\n",
       "      <td>Chhattisgarh</td>\n",
       "      <td>7961.0</td>\n",
       "      <td>2244.0</td>\n",
       "      <td>7762.0</td>\n",
       "      <td>4696.0</td>\n",
       "      <td>1524.0</td>\n",
       "      <td>4661.0</td>\n",
       "      <td>0.0</td>\n",
       "      <td>0.0</td>\n",
       "      <td>0.0</td>\n",
       "      <td>1164.0</td>\n",
       "      <td>254.0</td>\n",
       "      <td>734.0</td>\n",
       "    </tr>\n",
       "  </tbody>\n",
       "</table>\n",
       "</div>"
      ],
      "text/plain": [
       "  SNo              State  SingleLane-Accident-2014  Single Lane-Killed-2014  \\\n",
       "0   1     Andhra Pradesh                    8634.0                   2958.0   \n",
       "1   2  Arunachal Pradesh                      90.0                     60.0   \n",
       "2   3              Assam                    3888.0                   1217.0   \n",
       "3   4              Bihar                    3731.0                   1815.0   \n",
       "4   5       Chhattisgarh                    7961.0                   2244.0   \n",
       "\n",
       "   SingleLane-Injured-2014  Two Lanes - Accident  - 2014  \\\n",
       "0                  13541.0                       10327.0   \n",
       "1                    152.0                         115.0   \n",
       "2                   3195.0                        2432.0   \n",
       "3                   2475.0                        4156.0   \n",
       "4                   7762.0                        4696.0   \n",
       "\n",
       "    Two Lanes - Killed  - 2014   Two Lanes - Injured - 2014  \\\n",
       "0                       2994.0                      10122.0   \n",
       "1                         59.0                        156.0   \n",
       "2                       1035.0                       2510.0   \n",
       "3                       2096.0                       3092.0   \n",
       "4                       1524.0                       4661.0   \n",
       "\n",
       "   3 Lanes or more w.o Median - Accident  - 2014  \\\n",
       "0                                         1188.0   \n",
       "1                                            0.0   \n",
       "2                                           56.0   \n",
       "3                                          756.0   \n",
       "4                                            0.0   \n",
       "\n",
       "   3 Lanes or more w.o Median - Killed  - 2014  \\\n",
       "0                                        396.0   \n",
       "1                                          0.0   \n",
       "2                                         25.0   \n",
       "3                                        390.0   \n",
       "4                                          0.0   \n",
       "\n",
       "   3 Lanes or more w.o Median - Injured - 2014  \\\n",
       "0                                       1199.0   \n",
       "1                                          0.0   \n",
       "2                                         42.0   \n",
       "3                                        485.0   \n",
       "4                                          0.0   \n",
       "\n",
       "    4 Lanes with Median - Accident  - 2014  \\\n",
       "0                                   4291.0   \n",
       "1                                      0.0   \n",
       "2                                    768.0   \n",
       "3                                    913.0   \n",
       "4                                   1164.0   \n",
       "\n",
       "    4 Lanes with Median - Killed  - 2014  \\\n",
       "0                                 1560.0   \n",
       "1                                    0.0   \n",
       "2                                  245.0   \n",
       "3                                  612.0   \n",
       "4                                  254.0   \n",
       "\n",
       "    4 Lanes with Median - Injured - 2014  \n",
       "0                                 5069.0  \n",
       "1                                    0.0  \n",
       "2                                  752.0  \n",
       "3                                  588.0  \n",
       "4                                  734.0  "
      ]
     },
     "execution_count": 55,
     "metadata": {},
     "output_type": "execute_result"
    }
   ],
   "source": [
    "road_features_df.head()"
   ]
  },
  {
   "cell_type": "code",
   "execution_count": 7,
   "metadata": {},
   "outputs": [
    {
     "data": {
      "text/html": [
       "<div>\n",
       "<table border=\"1\" class=\"dataframe\">\n",
       "  <thead>\n",
       "    <tr style=\"text-align: right;\">\n",
       "      <th></th>\n",
       "      <th>SNo</th>\n",
       "      <th>State</th>\n",
       "      <th>SingleLane-Accident-2014</th>\n",
       "      <th>Single Lane-Killed-2014</th>\n",
       "      <th>SingleLane-Injured-2014</th>\n",
       "      <th>Two Lanes - Accident  - 2014</th>\n",
       "      <th>Two Lanes - Killed  - 2014</th>\n",
       "      <th>Two Lanes - Injured - 2014</th>\n",
       "      <th>3 Lanes or more w.o Median - Accident  - 2014</th>\n",
       "      <th>3 Lanes or more w.o Median - Killed  - 2014</th>\n",
       "      <th>3 Lanes or more w.o Median - Injured - 2014</th>\n",
       "      <th>4 Lanes with Median - Accident  - 2014</th>\n",
       "      <th>4 Lanes with Median - Killed  - 2014</th>\n",
       "      <th>4 Lanes with Median - Injured - 2014</th>\n",
       "    </tr>\n",
       "  </thead>\n",
       "  <tbody>\n",
       "    <tr>\n",
       "      <th>31</th>\n",
       "      <td>32</td>\n",
       "      <td>Dadra &amp; Nagar Haveli</td>\n",
       "      <td>21.0</td>\n",
       "      <td>15.0</td>\n",
       "      <td>28.0</td>\n",
       "      <td>66.0</td>\n",
       "      <td>44.0</td>\n",
       "      <td>68.0</td>\n",
       "      <td>0.0</td>\n",
       "      <td>0.0</td>\n",
       "      <td>0.0</td>\n",
       "      <td>0.0</td>\n",
       "      <td>0.0</td>\n",
       "      <td>0.0</td>\n",
       "    </tr>\n",
       "    <tr>\n",
       "      <th>32</th>\n",
       "      <td>33</td>\n",
       "      <td>Daman &amp; Diu</td>\n",
       "      <td>13.0</td>\n",
       "      <td>5.0</td>\n",
       "      <td>11.0</td>\n",
       "      <td>26.0</td>\n",
       "      <td>10.0</td>\n",
       "      <td>38.0</td>\n",
       "      <td>0.0</td>\n",
       "      <td>0.0</td>\n",
       "      <td>0.0</td>\n",
       "      <td>0.0</td>\n",
       "      <td>0.0</td>\n",
       "      <td>0.0</td>\n",
       "    </tr>\n",
       "    <tr>\n",
       "      <th>33</th>\n",
       "      <td>34</td>\n",
       "      <td>Delhi</td>\n",
       "      <td>0.0</td>\n",
       "      <td>0.0</td>\n",
       "      <td>0.0</td>\n",
       "      <td>0.0</td>\n",
       "      <td>0.0</td>\n",
       "      <td>0.0</td>\n",
       "      <td>0.0</td>\n",
       "      <td>0.0</td>\n",
       "      <td>0.0</td>\n",
       "      <td>0.0</td>\n",
       "      <td>0.0</td>\n",
       "      <td>0.0</td>\n",
       "    </tr>\n",
       "    <tr>\n",
       "      <th>34</th>\n",
       "      <td>35</td>\n",
       "      <td>Lakshadweep</td>\n",
       "      <td>1.0</td>\n",
       "      <td>0.0</td>\n",
       "      <td>1.0</td>\n",
       "      <td>0.0</td>\n",
       "      <td>0.0</td>\n",
       "      <td>0.0</td>\n",
       "      <td>0.0</td>\n",
       "      <td>0.0</td>\n",
       "      <td>0.0</td>\n",
       "      <td>0.0</td>\n",
       "      <td>0.0</td>\n",
       "      <td>0.0</td>\n",
       "    </tr>\n",
       "    <tr>\n",
       "      <th>35</th>\n",
       "      <td>36</td>\n",
       "      <td>Puducherry</td>\n",
       "      <td>525.0</td>\n",
       "      <td>43.0</td>\n",
       "      <td>393.0</td>\n",
       "      <td>567.0</td>\n",
       "      <td>108.0</td>\n",
       "      <td>930.0</td>\n",
       "      <td>0.0</td>\n",
       "      <td>0.0</td>\n",
       "      <td>0.0</td>\n",
       "      <td>19.0</td>\n",
       "      <td>0.0</td>\n",
       "      <td>0.0</td>\n",
       "    </tr>\n",
       "  </tbody>\n",
       "</table>\n",
       "</div>"
      ],
      "text/plain": [
       "   SNo                 State  SingleLane-Accident-2014  \\\n",
       "31  32  Dadra & Nagar Haveli                      21.0   \n",
       "32  33           Daman & Diu                      13.0   \n",
       "33  34                 Delhi                       0.0   \n",
       "34  35           Lakshadweep                       1.0   \n",
       "35  36            Puducherry                     525.0   \n",
       "\n",
       "    Single Lane-Killed-2014  SingleLane-Injured-2014  \\\n",
       "31                     15.0                     28.0   \n",
       "32                      5.0                     11.0   \n",
       "33                      0.0                      0.0   \n",
       "34                      0.0                      1.0   \n",
       "35                     43.0                    393.0   \n",
       "\n",
       "    Two Lanes - Accident  - 2014   Two Lanes - Killed  - 2014  \\\n",
       "31                          66.0                         44.0   \n",
       "32                          26.0                         10.0   \n",
       "33                           0.0                          0.0   \n",
       "34                           0.0                          0.0   \n",
       "35                         567.0                        108.0   \n",
       "\n",
       "     Two Lanes - Injured - 2014  \\\n",
       "31                         68.0   \n",
       "32                         38.0   \n",
       "33                          0.0   \n",
       "34                          0.0   \n",
       "35                        930.0   \n",
       "\n",
       "    3 Lanes or more w.o Median - Accident  - 2014  \\\n",
       "31                                            0.0   \n",
       "32                                            0.0   \n",
       "33                                            0.0   \n",
       "34                                            0.0   \n",
       "35                                            0.0   \n",
       "\n",
       "    3 Lanes or more w.o Median - Killed  - 2014  \\\n",
       "31                                          0.0   \n",
       "32                                          0.0   \n",
       "33                                          0.0   \n",
       "34                                          0.0   \n",
       "35                                          0.0   \n",
       "\n",
       "    3 Lanes or more w.o Median - Injured - 2014  \\\n",
       "31                                          0.0   \n",
       "32                                          0.0   \n",
       "33                                          0.0   \n",
       "34                                          0.0   \n",
       "35                                          0.0   \n",
       "\n",
       "     4 Lanes with Median - Accident  - 2014  \\\n",
       "31                                      0.0   \n",
       "32                                      0.0   \n",
       "33                                      0.0   \n",
       "34                                      0.0   \n",
       "35                                     19.0   \n",
       "\n",
       "     4 Lanes with Median - Killed  - 2014  \\\n",
       "31                                    0.0   \n",
       "32                                    0.0   \n",
       "33                                    0.0   \n",
       "34                                    0.0   \n",
       "35                                    0.0   \n",
       "\n",
       "     4 Lanes with Median - Injured - 2014  \n",
       "31                                    0.0  \n",
       "32                                    0.0  \n",
       "33                                    0.0  \n",
       "34                                    0.0  \n",
       "35                                    0.0  "
      ]
     },
     "execution_count": 7,
     "metadata": {},
     "output_type": "execute_result"
    }
   ],
   "source": [
    "road_features_df.tail()"
   ]
  },
  {
   "cell_type": "code",
   "execution_count": 8,
   "metadata": {},
   "outputs": [
    {
     "data": {
      "text/html": [
       "<div>\n",
       "<table border=\"1\" class=\"dataframe\">\n",
       "  <thead>\n",
       "    <tr style=\"text-align: right;\">\n",
       "      <th></th>\n",
       "      <th>State</th>\n",
       "      <th>SingleLane-Accident-2014</th>\n",
       "    </tr>\n",
       "  </thead>\n",
       "  <tbody>\n",
       "    <tr>\n",
       "      <th>0</th>\n",
       "      <td>Andhra Pradesh</td>\n",
       "      <td>8634.0</td>\n",
       "    </tr>\n",
       "    <tr>\n",
       "      <th>1</th>\n",
       "      <td>Arunachal Pradesh</td>\n",
       "      <td>90.0</td>\n",
       "    </tr>\n",
       "  </tbody>\n",
       "</table>\n",
       "</div>"
      ],
      "text/plain": [
       "               State  SingleLane-Accident-2014\n",
       "0     Andhra Pradesh                    8634.0\n",
       "1  Arunachal Pradesh                      90.0"
      ]
     },
     "execution_count": 8,
     "metadata": {},
     "output_type": "execute_result"
    }
   ],
   "source": [
    "#print(road_features_df)\n",
    "road_features_df[['State','SingleLane-Accident-2014']][:2]"
   ]
  },
  {
   "cell_type": "code",
   "execution_count": null,
   "metadata": {},
   "outputs": [],
   "source": []
  },
  {
   "cell_type": "code",
   "execution_count": 9,
   "metadata": {},
   "outputs": [
    {
     "name": "stdout",
     "output_type": "stream",
     "text": [
      "207725.0\n",
      "5770.13888889\n"
     ]
    }
   ],
   "source": [
    "print(np.sum(road_features_df['SingleLane-Accident-2014']))\n",
    "print(np.mean(road_features_df['SingleLane-Accident-2014']))"
   ]
  },
  {
   "cell_type": "code",
   "execution_count": 10,
   "metadata": {},
   "outputs": [],
   "source": [
    "# Replacing NaN with 0\n",
    "single_lane_killed_2014 = road_features_df[['State','Single Lane-Killed-2014']].fillna(0)"
   ]
  },
  {
   "cell_type": "code",
   "execution_count": 50,
   "metadata": {},
   "outputs": [
    {
     "data": {
      "text/html": [
       "<div>\n",
       "<table border=\"1\" class=\"dataframe\">\n",
       "  <thead>\n",
       "    <tr style=\"text-align: right;\">\n",
       "      <th></th>\n",
       "      <th>State</th>\n",
       "      <th>Single Lane-Killed-2014</th>\n",
       "    </tr>\n",
       "  </thead>\n",
       "  <tbody>\n",
       "    <tr>\n",
       "      <th>31</th>\n",
       "      <td>Dadra &amp; Nagar Haveli</td>\n",
       "      <td>15.0</td>\n",
       "    </tr>\n",
       "    <tr>\n",
       "      <th>32</th>\n",
       "      <td>Daman &amp; Diu</td>\n",
       "      <td>5.0</td>\n",
       "    </tr>\n",
       "    <tr>\n",
       "      <th>33</th>\n",
       "      <td>Delhi</td>\n",
       "      <td>0.0</td>\n",
       "    </tr>\n",
       "    <tr>\n",
       "      <th>34</th>\n",
       "      <td>Lakshadweep</td>\n",
       "      <td>0.0</td>\n",
       "    </tr>\n",
       "    <tr>\n",
       "      <th>35</th>\n",
       "      <td>Puducherry</td>\n",
       "      <td>43.0</td>\n",
       "    </tr>\n",
       "  </tbody>\n",
       "</table>\n",
       "</div>"
      ],
      "text/plain": [
       "                   State  Single Lane-Killed-2014\n",
       "31  Dadra & Nagar Haveli                     15.0\n",
       "32           Daman & Diu                      5.0\n",
       "33                 Delhi                      0.0\n",
       "34           Lakshadweep                      0.0\n",
       "35            Puducherry                     43.0"
      ]
     },
     "execution_count": 50,
     "metadata": {},
     "output_type": "execute_result"
    }
   ],
   "source": [
    "single_lane_killed_2014.tail(5)"
   ]
  },
  {
   "cell_type": "code",
   "execution_count": 11,
   "metadata": {},
   "outputs": [
    {
     "data": {
      "text/plain": [
       "<matplotlib.collections.PathCollection at 0x109cb0350>"
      ]
     },
     "execution_count": 11,
     "metadata": {},
     "output_type": "execute_result"
    },
    {
     "data": {
      "image/png": "[encoded data removed]",
      "text/plain": [
       "<matplotlib.figure.Figure at 0x105d620d0>"
      ]
     },
     "metadata": {},
     "output_type": "display_data"
    }
   ],
   "source": [
    "# Just to test scatter plotting\n",
    "plt.scatter(road_features_df['SingleLane-Accident-2014'].tolist(), road_features_df['Single Lane-Killed-2014'].tolist())"
   ]
  },
  {
   "cell_type": "code",
   "execution_count": 23,
   "metadata": {},
   "outputs": [
    {
     "data": {
      "text/plain": [
       "<matplotlib.text.Text at 0x10c38ed50>"
      ]
     },
     "execution_count": 23,
     "metadata": {},
     "output_type": "execute_result"
    },
    {
     "data": {
      "image/png": "[encoded data removed]",
      "text/plain": [
       "<matplotlib.figure.Figure at 0x10c35d110>"
      ]
     },
     "metadata": {},
     "output_type": "display_data"
    }
   ],
   "source": [
    "plt.figure(figsize=(14, 6))\n",
    "y_pos = np.arange(len(road_features_df['State']))\n",
    "plt.bar(y_pos, road_features_df['Single Lane-Killed-2014'])\n",
    "plt.xticks(y_pos, road_features_df['State'], rotation=90, fontsize='large')\n",
    "plt.xlabel('State')\n",
    "plt.ylabel('Single Lane-Killed-2014')\n",
    "plt.title('State vs Single Lane-Killed-2014')"
   ]
  },
  {
   "cell_type": "code",
   "execution_count": null,
   "metadata": {},
   "outputs": [],
   "source": []
  }
 ],
 "metadata": {
  "kernelspec": {
   "display_name": "Python 2",
   "language": "python",
   "name": "python2"
  },
  "language_info": {
   "codemirror_mode": {
    "name": "ipython",
    "version": 2
   },
   "file_extension": ".py",
   "mimetype": "text/x-python",
   "name": "python",
   "nbconvert_exporter": "python",
   "pygments_lexer": "ipython2",
   "version": "2.7.11"
  }
 },
 "nbformat": 4,
 "nbformat_minor": 2
}
