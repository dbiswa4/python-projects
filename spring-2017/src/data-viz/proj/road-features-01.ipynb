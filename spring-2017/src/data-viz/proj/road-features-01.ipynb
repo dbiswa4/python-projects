{
 "cells": [
  {
   "cell_type": "code",
   "execution_count": 62,
   "metadata": {},
   "outputs": [],
   "source": [
    "import matplotlib.pyplot as plt\n",
    "import pandas as pd\n",
    "import seaborn as sns\n",
    "import numpy as np\n",
    "import random\n",
    "sns.set_style('white')\n",
    "\n",
    "%matplotlib inline"
   ]
  },
  {
   "cell_type": "code",
   "execution_count": 63,
   "metadata": {},
   "outputs": [],
   "source": [
    "# Load raw data into DataFrame using pandas\n",
    "road_features_df_raw = pd.read_csv('Road_features.csv', delimiter=',')"
   ]
  },
  {
   "cell_type": "code",
   "execution_count": 64,
   "metadata": {},
   "outputs": [],
   "source": [
    "#replace NaN with 0\n",
    "road_features_df = road_features_df_raw[~(road_features_df_raw['State'] == 'Total ')].fillna(0)"
   ]
  },
  {
   "cell_type": "code",
   "execution_count": 65,
   "metadata": {},
   "outputs": [
    {
     "data": {
      "text/html": [
       "<div>\n",
       "<table border=\"1\" class=\"dataframe\">\n",
       "  <thead>\n",
       "    <tr style=\"text-align: right;\">\n",
       "      <th></th>\n",
       "      <th>SNo</th>\n",
       "      <th>State</th>\n",
       "      <th>SingleLane-Accident-2014</th>\n",
       "      <th>SingleLane-Killed-2014</th>\n",
       "      <th>SingleLane-Injured-2014</th>\n",
       "      <th>TwoLanes-Accident-2014</th>\n",
       "      <th>TwoLanes-Killed-2014</th>\n",
       "      <th>TwoLanes-Injured-2014</th>\n",
       "      <th>3LanesOrMoreW.OMedian-Accident-2014</th>\n",
       "      <th>3LanesOrMoreW.OMedian-Killed-2014</th>\n",
       "      <th>3LanesOrMoreW.OMedian-Injured-2014</th>\n",
       "      <th>4LanesWithMedian-Accident-2014</th>\n",
       "      <th>4LanesWithMedian-Killed-2014</th>\n",
       "      <th>4LanesWithMedian-Injured-2014</th>\n",
       "    </tr>\n",
       "  </thead>\n",
       "  <tbody>\n",
       "    <tr>\n",
       "      <th>0</th>\n",
       "      <td>1</td>\n",
       "      <td>Andhra Pradesh</td>\n",
       "      <td>8634.0</td>\n",
       "      <td>2958.0</td>\n",
       "      <td>13541.0</td>\n",
       "      <td>10327.0</td>\n",
       "      <td>2994.0</td>\n",
       "      <td>10122.0</td>\n",
       "      <td>1188.0</td>\n",
       "      <td>396.0</td>\n",
       "      <td>1199.0</td>\n",
       "      <td>4291.0</td>\n",
       "      <td>1560.0</td>\n",
       "      <td>5069.0</td>\n",
       "    </tr>\n",
       "    <tr>\n",
       "      <th>1</th>\n",
       "      <td>2</td>\n",
       "      <td>Arunachal Pradesh</td>\n",
       "      <td>90.0</td>\n",
       "      <td>60.0</td>\n",
       "      <td>152.0</td>\n",
       "      <td>115.0</td>\n",
       "      <td>59.0</td>\n",
       "      <td>156.0</td>\n",
       "      <td>0.0</td>\n",
       "      <td>0.0</td>\n",
       "      <td>0.0</td>\n",
       "      <td>0.0</td>\n",
       "      <td>0.0</td>\n",
       "      <td>0.0</td>\n",
       "    </tr>\n",
       "    <tr>\n",
       "      <th>2</th>\n",
       "      <td>3</td>\n",
       "      <td>Assam</td>\n",
       "      <td>3888.0</td>\n",
       "      <td>1217.0</td>\n",
       "      <td>3195.0</td>\n",
       "      <td>2432.0</td>\n",
       "      <td>1035.0</td>\n",
       "      <td>2510.0</td>\n",
       "      <td>56.0</td>\n",
       "      <td>25.0</td>\n",
       "      <td>42.0</td>\n",
       "      <td>768.0</td>\n",
       "      <td>245.0</td>\n",
       "      <td>752.0</td>\n",
       "    </tr>\n",
       "    <tr>\n",
       "      <th>3</th>\n",
       "      <td>4</td>\n",
       "      <td>Bihar</td>\n",
       "      <td>3731.0</td>\n",
       "      <td>1815.0</td>\n",
       "      <td>2475.0</td>\n",
       "      <td>4156.0</td>\n",
       "      <td>2096.0</td>\n",
       "      <td>3092.0</td>\n",
       "      <td>756.0</td>\n",
       "      <td>390.0</td>\n",
       "      <td>485.0</td>\n",
       "      <td>913.0</td>\n",
       "      <td>612.0</td>\n",
       "      <td>588.0</td>\n",
       "    </tr>\n",
       "    <tr>\n",
       "      <th>4</th>\n",
       "      <td>5</td>\n",
       "      <td>Chhattisgarh</td>\n",
       "      <td>7961.0</td>\n",
       "      <td>2244.0</td>\n",
       "      <td>7762.0</td>\n",
       "      <td>4696.0</td>\n",
       "      <td>1524.0</td>\n",
       "      <td>4661.0</td>\n",
       "      <td>0.0</td>\n",
       "      <td>0.0</td>\n",
       "      <td>0.0</td>\n",
       "      <td>1164.0</td>\n",
       "      <td>254.0</td>\n",
       "      <td>734.0</td>\n",
       "    </tr>\n",
       "  </tbody>\n",
       "</table>\n",
       "</div>"
      ],
      "text/plain": [
       "  SNo              State  SingleLane-Accident-2014  SingleLane-Killed-2014  \\\n",
       "0   1     Andhra Pradesh                    8634.0                  2958.0   \n",
       "1   2  Arunachal Pradesh                      90.0                    60.0   \n",
       "2   3              Assam                    3888.0                  1217.0   \n",
       "3   4              Bihar                    3731.0                  1815.0   \n",
       "4   5       Chhattisgarh                    7961.0                  2244.0   \n",
       "\n",
       "   SingleLane-Injured-2014  TwoLanes-Accident-2014  TwoLanes-Killed-2014  \\\n",
       "0                  13541.0                 10327.0                2994.0   \n",
       "1                    152.0                   115.0                  59.0   \n",
       "2                   3195.0                  2432.0                1035.0   \n",
       "3                   2475.0                  4156.0                2096.0   \n",
       "4                   7762.0                  4696.0                1524.0   \n",
       "\n",
       "   TwoLanes-Injured-2014  3LanesOrMoreW.OMedian-Accident-2014  \\\n",
       "0                10122.0                               1188.0   \n",
       "1                  156.0                                  0.0   \n",
       "2                 2510.0                                 56.0   \n",
       "3                 3092.0                                756.0   \n",
       "4                 4661.0                                  0.0   \n",
       "\n",
       "   3LanesOrMoreW.OMedian-Killed-2014  3LanesOrMoreW.OMedian-Injured-2014  \\\n",
       "0                              396.0                              1199.0   \n",
       "1                                0.0                                 0.0   \n",
       "2                               25.0                                42.0   \n",
       "3                              390.0                               485.0   \n",
       "4                                0.0                                 0.0   \n",
       "\n",
       "   4LanesWithMedian-Accident-2014  4LanesWithMedian-Killed-2014  \\\n",
       "0                          4291.0                        1560.0   \n",
       "1                             0.0                           0.0   \n",
       "2                           768.0                         245.0   \n",
       "3                           913.0                         612.0   \n",
       "4                          1164.0                         254.0   \n",
       "\n",
       "   4LanesWithMedian-Injured-2014  \n",
       "0                         5069.0  \n",
       "1                            0.0  \n",
       "2                          752.0  \n",
       "3                          588.0  \n",
       "4                          734.0  "
      ]
     },
     "execution_count": 65,
     "metadata": {},
     "output_type": "execute_result"
    }
   ],
   "source": [
    "road_features_df.head()"
   ]
  },
  {
   "cell_type": "code",
   "execution_count": 66,
   "metadata": {},
   "outputs": [
    {
     "data": {
      "text/html": [
       "<div>\n",
       "<table border=\"1\" class=\"dataframe\">\n",
       "  <thead>\n",
       "    <tr style=\"text-align: right;\">\n",
       "      <th></th>\n",
       "      <th>SNo</th>\n",
       "      <th>State</th>\n",
       "      <th>SingleLane-Accident-2014</th>\n",
       "      <th>SingleLane-Killed-2014</th>\n",
       "      <th>SingleLane-Injured-2014</th>\n",
       "      <th>TwoLanes-Accident-2014</th>\n",
       "      <th>TwoLanes-Killed-2014</th>\n",
       "      <th>TwoLanes-Injured-2014</th>\n",
       "      <th>3LanesOrMoreW.OMedian-Accident-2014</th>\n",
       "      <th>3LanesOrMoreW.OMedian-Killed-2014</th>\n",
       "      <th>3LanesOrMoreW.OMedian-Injured-2014</th>\n",
       "      <th>4LanesWithMedian-Accident-2014</th>\n",
       "      <th>4LanesWithMedian-Killed-2014</th>\n",
       "      <th>4LanesWithMedian-Injured-2014</th>\n",
       "    </tr>\n",
       "  </thead>\n",
       "  <tbody>\n",
       "    <tr>\n",
       "      <th>31</th>\n",
       "      <td>32</td>\n",
       "      <td>Dadra &amp; Nagar Haveli</td>\n",
       "      <td>21.0</td>\n",
       "      <td>15.0</td>\n",
       "      <td>28.0</td>\n",
       "      <td>66.0</td>\n",
       "      <td>44.0</td>\n",
       "      <td>68.0</td>\n",
       "      <td>0.0</td>\n",
       "      <td>0.0</td>\n",
       "      <td>0.0</td>\n",
       "      <td>0.0</td>\n",
       "      <td>0.0</td>\n",
       "      <td>0.0</td>\n",
       "    </tr>\n",
       "    <tr>\n",
       "      <th>32</th>\n",
       "      <td>33</td>\n",
       "      <td>Daman &amp; Diu</td>\n",
       "      <td>13.0</td>\n",
       "      <td>5.0</td>\n",
       "      <td>11.0</td>\n",
       "      <td>26.0</td>\n",
       "      <td>10.0</td>\n",
       "      <td>38.0</td>\n",
       "      <td>0.0</td>\n",
       "      <td>0.0</td>\n",
       "      <td>0.0</td>\n",
       "      <td>0.0</td>\n",
       "      <td>0.0</td>\n",
       "      <td>0.0</td>\n",
       "    </tr>\n",
       "    <tr>\n",
       "      <th>33</th>\n",
       "      <td>34</td>\n",
       "      <td>Delhi</td>\n",
       "      <td>0.0</td>\n",
       "      <td>0.0</td>\n",
       "      <td>0.0</td>\n",
       "      <td>0.0</td>\n",
       "      <td>0.0</td>\n",
       "      <td>0.0</td>\n",
       "      <td>0.0</td>\n",
       "      <td>0.0</td>\n",
       "      <td>0.0</td>\n",
       "      <td>0.0</td>\n",
       "      <td>0.0</td>\n",
       "      <td>0.0</td>\n",
       "    </tr>\n",
       "    <tr>\n",
       "      <th>34</th>\n",
       "      <td>35</td>\n",
       "      <td>Lakshadweep</td>\n",
       "      <td>1.0</td>\n",
       "      <td>0.0</td>\n",
       "      <td>1.0</td>\n",
       "      <td>0.0</td>\n",
       "      <td>0.0</td>\n",
       "      <td>0.0</td>\n",
       "      <td>0.0</td>\n",
       "      <td>0.0</td>\n",
       "      <td>0.0</td>\n",
       "      <td>0.0</td>\n",
       "      <td>0.0</td>\n",
       "      <td>0.0</td>\n",
       "    </tr>\n",
       "    <tr>\n",
       "      <th>35</th>\n",
       "      <td>36</td>\n",
       "      <td>Puducherry</td>\n",
       "      <td>525.0</td>\n",
       "      <td>43.0</td>\n",
       "      <td>393.0</td>\n",
       "      <td>567.0</td>\n",
       "      <td>108.0</td>\n",
       "      <td>930.0</td>\n",
       "      <td>0.0</td>\n",
       "      <td>0.0</td>\n",
       "      <td>0.0</td>\n",
       "      <td>19.0</td>\n",
       "      <td>0.0</td>\n",
       "      <td>0.0</td>\n",
       "    </tr>\n",
       "  </tbody>\n",
       "</table>\n",
       "</div>"
      ],
      "text/plain": [
       "   SNo                 State  SingleLane-Accident-2014  \\\n",
       "31  32  Dadra & Nagar Haveli                      21.0   \n",
       "32  33           Daman & Diu                      13.0   \n",
       "33  34                 Delhi                       0.0   \n",
       "34  35           Lakshadweep                       1.0   \n",
       "35  36            Puducherry                     525.0   \n",
       "\n",
       "    SingleLane-Killed-2014  SingleLane-Injured-2014  TwoLanes-Accident-2014  \\\n",
       "31                    15.0                     28.0                    66.0   \n",
       "32                     5.0                     11.0                    26.0   \n",
       "33                     0.0                      0.0                     0.0   \n",
       "34                     0.0                      1.0                     0.0   \n",
       "35                    43.0                    393.0                   567.0   \n",
       "\n",
       "    TwoLanes-Killed-2014  TwoLanes-Injured-2014  \\\n",
       "31                  44.0                   68.0   \n",
       "32                  10.0                   38.0   \n",
       "33                   0.0                    0.0   \n",
       "34                   0.0                    0.0   \n",
       "35                 108.0                  930.0   \n",
       "\n",
       "    3LanesOrMoreW.OMedian-Accident-2014  3LanesOrMoreW.OMedian-Killed-2014  \\\n",
       "31                                  0.0                                0.0   \n",
       "32                                  0.0                                0.0   \n",
       "33                                  0.0                                0.0   \n",
       "34                                  0.0                                0.0   \n",
       "35                                  0.0                                0.0   \n",
       "\n",
       "    3LanesOrMoreW.OMedian-Injured-2014  4LanesWithMedian-Accident-2014  \\\n",
       "31                                 0.0                             0.0   \n",
       "32                                 0.0                             0.0   \n",
       "33                                 0.0                             0.0   \n",
       "34                                 0.0                             0.0   \n",
       "35                                 0.0                            19.0   \n",
       "\n",
       "    4LanesWithMedian-Killed-2014  4LanesWithMedian-Injured-2014  \n",
       "31                           0.0                            0.0  \n",
       "32                           0.0                            0.0  \n",
       "33                           0.0                            0.0  \n",
       "34                           0.0                            0.0  \n",
       "35                           0.0                            0.0  "
      ]
     },
     "execution_count": 66,
     "metadata": {},
     "output_type": "execute_result"
    }
   ],
   "source": [
    "road_features_df.tail()"
   ]
  },
  {
   "cell_type": "code",
   "execution_count": 67,
   "metadata": {},
   "outputs": [
    {
     "data": {
      "text/html": [
       "<div>\n",
       "<table border=\"1\" class=\"dataframe\">\n",
       "  <thead>\n",
       "    <tr style=\"text-align: right;\">\n",
       "      <th></th>\n",
       "      <th>State</th>\n",
       "      <th>SingleLane-Accident-2014</th>\n",
       "    </tr>\n",
       "  </thead>\n",
       "  <tbody>\n",
       "    <tr>\n",
       "      <th>0</th>\n",
       "      <td>Andhra Pradesh</td>\n",
       "      <td>8634.0</td>\n",
       "    </tr>\n",
       "    <tr>\n",
       "      <th>1</th>\n",
       "      <td>Arunachal Pradesh</td>\n",
       "      <td>90.0</td>\n",
       "    </tr>\n",
       "  </tbody>\n",
       "</table>\n",
       "</div>"
      ],
      "text/plain": [
       "               State  SingleLane-Accident-2014\n",
       "0     Andhra Pradesh                    8634.0\n",
       "1  Arunachal Pradesh                      90.0"
      ]
     },
     "execution_count": 67,
     "metadata": {},
     "output_type": "execute_result"
    }
   ],
   "source": [
    "#print(road_features_df)\n",
    "road_features_df[['State','SingleLane-Accident-2014']][:2]"
   ]
  },
  {
   "cell_type": "code",
   "execution_count": 68,
   "metadata": {},
   "outputs": [
    {
     "name": "stdout",
     "output_type": "stream",
     "text": [
      "207725.0\n",
      "5770.13888889\n"
     ]
    }
   ],
   "source": [
    "print(np.sum(road_features_df['SingleLane-Accident-2014']))\n",
    "print(np.mean(road_features_df['SingleLane-Accident-2014']))"
   ]
  },
  {
   "cell_type": "code",
   "execution_count": 70,
   "metadata": {},
   "outputs": [],
   "source": [
    "# Replacing NaN with 0\n",
    "single_lane_killed_2014 = road_features_df[['State','SingleLane-Killed-2014']].fillna(0)"
   ]
  },
  {
   "cell_type": "code",
   "execution_count": 9,
   "metadata": {},
   "outputs": [
    {
     "data": {
      "text/html": [
       "<div>\n",
       "<table border=\"1\" class=\"dataframe\">\n",
       "  <thead>\n",
       "    <tr style=\"text-align: right;\">\n",
       "      <th></th>\n",
       "      <th>State</th>\n",
       "      <th>Single Lane-Killed-2014</th>\n",
       "    </tr>\n",
       "  </thead>\n",
       "  <tbody>\n",
       "    <tr>\n",
       "      <th>31</th>\n",
       "      <td>Dadra &amp; Nagar Haveli</td>\n",
       "      <td>15.0</td>\n",
       "    </tr>\n",
       "    <tr>\n",
       "      <th>32</th>\n",
       "      <td>Daman &amp; Diu</td>\n",
       "      <td>5.0</td>\n",
       "    </tr>\n",
       "    <tr>\n",
       "      <th>33</th>\n",
       "      <td>Delhi</td>\n",
       "      <td>0.0</td>\n",
       "    </tr>\n",
       "    <tr>\n",
       "      <th>34</th>\n",
       "      <td>Lakshadweep</td>\n",
       "      <td>0.0</td>\n",
       "    </tr>\n",
       "    <tr>\n",
       "      <th>35</th>\n",
       "      <td>Puducherry</td>\n",
       "      <td>43.0</td>\n",
       "    </tr>\n",
       "  </tbody>\n",
       "</table>\n",
       "</div>"
      ],
      "text/plain": [
       "                   State  Single Lane-Killed-2014\n",
       "31  Dadra & Nagar Haveli                     15.0\n",
       "32           Daman & Diu                      5.0\n",
       "33                 Delhi                      0.0\n",
       "34           Lakshadweep                      0.0\n",
       "35            Puducherry                     43.0"
      ]
     },
     "execution_count": 9,
     "metadata": {},
     "output_type": "execute_result"
    }
   ],
   "source": [
    "single_lane_killed_2014.tail(5)"
   ]
  },
  {
   "cell_type": "code",
   "execution_count": 72,
   "metadata": {},
   "outputs": [
    {
     "data": {
      "text/plain": [
       "<matplotlib.collections.PathCollection at 0x115fbdc50>"
      ]
     },
     "execution_count": 72,
     "metadata": {},
     "output_type": "execute_result"
    },
    {
     "data": {
      "image/png": "[encoded data removed]",
      "text/plain": [
       "<matplotlib.figure.Figure at 0x115eaf1d0>"
      ]
     },
     "metadata": {},
     "output_type": "display_data"
    }
   ],
   "source": [
    "# Just to test scatter plotting\n",
    "plt.scatter(road_features_df['SingleLane-Accident-2014'].tolist(), road_features_df['SingleLane-Killed-2014'].tolist())"
   ]
  },
  {
   "cell_type": "code",
   "execution_count": 75,
   "metadata": {},
   "outputs": [
    {
     "data": {
      "text/plain": [
       "<matplotlib.text.Text at 0x1161cb6d0>"
      ]
     },
     "execution_count": 75,
     "metadata": {},
     "output_type": "execute_result"
    },
    {
     "data": {
      "image/png": "[encoded data removed]",
      "text/plain": [
       "<matplotlib.figure.Figure at 0x115ff8390>"
      ]
     },
     "metadata": {},
     "output_type": "display_data"
    }
   ],
   "source": [
    "plt.figure(figsize=(14, 6))\n",
    "y_pos = np.arange(len(road_features_df['State']))\n",
    "plt.bar(y_pos, road_features_df['SingleLane-Killed-2014'])\n",
    "plt.xticks(y_pos, road_features_df['State'], rotation=90, fontsize='large')\n",
    "plt.xlabel('State')\n",
    "plt.ylabel('SingleLane-Killed-2014')\n",
    "plt.title('State vs SingleLane-Killed-2014')"
   ]
  },
  {
   "cell_type": "code",
   "execution_count": 76,
   "metadata": {},
   "outputs": [
    {
     "data": {
      "text/html": [
       "<div>\n",
       "<table border=\"1\" class=\"dataframe\">\n",
       "  <thead>\n",
       "    <tr style=\"text-align: right;\">\n",
       "      <th></th>\n",
       "      <th>State</th>\n",
       "      <th>SingleLane-Killed-2014</th>\n",
       "    </tr>\n",
       "  </thead>\n",
       "  <tbody>\n",
       "    <tr>\n",
       "      <th>27</th>\n",
       "      <td>Uttar Pradesh</td>\n",
       "      <td>7770.0</td>\n",
       "    </tr>\n",
       "    <tr>\n",
       "      <th>11</th>\n",
       "      <td>Karnataka</td>\n",
       "      <td>5804.0</td>\n",
       "    </tr>\n",
       "    <tr>\n",
       "      <th>14</th>\n",
       "      <td>Maharashtra</td>\n",
       "      <td>5312.0</td>\n",
       "    </tr>\n",
       "    <tr>\n",
       "      <th>21</th>\n",
       "      <td>Rajasthan</td>\n",
       "      <td>5035.0</td>\n",
       "    </tr>\n",
       "    <tr>\n",
       "      <th>23</th>\n",
       "      <td>Tamil Nadu</td>\n",
       "      <td>4693.0</td>\n",
       "    </tr>\n",
       "  </tbody>\n",
       "</table>\n",
       "</div>"
      ],
      "text/plain": [
       "            State  SingleLane-Killed-2014\n",
       "27  Uttar Pradesh                  7770.0\n",
       "11      Karnataka                  5804.0\n",
       "14    Maharashtra                  5312.0\n",
       "21      Rajasthan                  5035.0\n",
       "23     Tamil Nadu                  4693.0"
      ]
     },
     "execution_count": 76,
     "metadata": {},
     "output_type": "execute_result"
    }
   ],
   "source": [
    "#Experiment with sorting\n",
    "#sort() is deprecated, use sort_values()\n",
    "#[[]] indicates it is list of list\n",
    "#single_lane_killed_2014 = road_features_df[['Single Lane-Killed-2014']]\n",
    "single_lane_killed_2014 = road_features_df[['State', 'SingleLane-Killed-2014']]\n",
    "sorted_single_lane_killed_2014 = single_lane_killed_2014.sort_values(['SingleLane-Killed-2014'], ascending=[False])\n",
    "sorted_single_lane_killed_2014.head()"
   ]
  },
  {
   "cell_type": "code",
   "execution_count": 77,
   "metadata": {},
   "outputs": [
    {
     "data": {
      "text/plain": [
       "<matplotlib.text.Text at 0x1163ec050>"
      ]
     },
     "execution_count": 77,
     "metadata": {},
     "output_type": "execute_result"
    },
    {
     "data": {
      "image/png": "[encoded data removed]",
      "text/plain": [
       "<matplotlib.figure.Figure at 0x116330d50>"
      ]
     },
     "metadata": {},
     "output_type": "display_data"
    }
   ],
   "source": [
    "plt.figure(figsize=(14, 6))\n",
    "single_lane_killed_2014 = road_features_df[['State', 'SingleLane-Killed-2014']]\n",
    "sorted_df = single_lane_killed_2014.sort_values(['SingleLane-Killed-2014'], ascending=[False])\n",
    "y_pos = np.arange(len(sorted_df['State']))\n",
    "plt.bar(y_pos, sorted_df['SingleLane-Killed-2014'])\n",
    "plt.xticks(y_pos, sorted_df['State'], rotation=90, fontsize='large')\n",
    "plt.xlabel('State')\n",
    "plt.ylabel('SingleLane-Killed-2014')\n",
    "plt.title('State vs SingleLane-Killed-2014')"
   ]
  },
  {
   "cell_type": "code",
   "execution_count": 79,
   "metadata": {},
   "outputs": [
    {
     "data": {
      "text/html": [
       "<div>\n",
       "<table border=\"1\" class=\"dataframe\">\n",
       "  <thead>\n",
       "    <tr style=\"text-align: right;\">\n",
       "      <th></th>\n",
       "      <th>State</th>\n",
       "      <th>SingleLane-Accident-2014</th>\n",
       "      <th>TwoLanes-Accident-2014</th>\n",
       "    </tr>\n",
       "  </thead>\n",
       "  <tbody>\n",
       "    <tr>\n",
       "      <th>0</th>\n",
       "      <td>Andhra Pradesh</td>\n",
       "      <td>8634.0</td>\n",
       "      <td>10327.0</td>\n",
       "    </tr>\n",
       "    <tr>\n",
       "      <th>1</th>\n",
       "      <td>Arunachal Pradesh</td>\n",
       "      <td>90.0</td>\n",
       "      <td>115.0</td>\n",
       "    </tr>\n",
       "    <tr>\n",
       "      <th>2</th>\n",
       "      <td>Assam</td>\n",
       "      <td>3888.0</td>\n",
       "      <td>2432.0</td>\n",
       "    </tr>\n",
       "    <tr>\n",
       "      <th>3</th>\n",
       "      <td>Bihar</td>\n",
       "      <td>3731.0</td>\n",
       "      <td>4156.0</td>\n",
       "    </tr>\n",
       "    <tr>\n",
       "      <th>4</th>\n",
       "      <td>Chhattisgarh</td>\n",
       "      <td>7961.0</td>\n",
       "      <td>4696.0</td>\n",
       "    </tr>\n",
       "  </tbody>\n",
       "</table>\n",
       "</div>"
      ],
      "text/plain": [
       "               State  SingleLane-Accident-2014  TwoLanes-Accident-2014\n",
       "0     Andhra Pradesh                    8634.0                 10327.0\n",
       "1  Arunachal Pradesh                      90.0                   115.0\n",
       "2              Assam                    3888.0                  2432.0\n",
       "3              Bihar                    3731.0                  4156.0\n",
       "4       Chhattisgarh                    7961.0                  4696.0"
      ]
     },
     "execution_count": 79,
     "metadata": {},
     "output_type": "execute_result"
    }
   ],
   "source": [
    "#Sample df for testing\n",
    "sample_df = road_features_df[['State', 'SingleLane-Accident-2014', 'TwoLanes-Accident-2014']]\n",
    "sample_df.head()"
   ]
  },
  {
   "cell_type": "code",
   "execution_count": 80,
   "metadata": {},
   "outputs": [
    {
     "data": {
      "text/html": [
       "<div>\n",
       "<table border=\"1\" class=\"dataframe\">\n",
       "  <thead>\n",
       "    <tr style=\"text-align: right;\">\n",
       "      <th></th>\n",
       "      <th>State</th>\n",
       "      <th>variable</th>\n",
       "      <th>value</th>\n",
       "    </tr>\n",
       "  </thead>\n",
       "  <tbody>\n",
       "    <tr>\n",
       "      <th>0</th>\n",
       "      <td>Andhra Pradesh</td>\n",
       "      <td>SingleLane-Accident-2014</td>\n",
       "      <td>8634.0</td>\n",
       "    </tr>\n",
       "    <tr>\n",
       "      <th>1</th>\n",
       "      <td>Arunachal Pradesh</td>\n",
       "      <td>SingleLane-Accident-2014</td>\n",
       "      <td>90.0</td>\n",
       "    </tr>\n",
       "    <tr>\n",
       "      <th>2</th>\n",
       "      <td>Assam</td>\n",
       "      <td>SingleLane-Accident-2014</td>\n",
       "      <td>3888.0</td>\n",
       "    </tr>\n",
       "    <tr>\n",
       "      <th>3</th>\n",
       "      <td>Bihar</td>\n",
       "      <td>SingleLane-Accident-2014</td>\n",
       "      <td>3731.0</td>\n",
       "    </tr>\n",
       "    <tr>\n",
       "      <th>4</th>\n",
       "      <td>Chhattisgarh</td>\n",
       "      <td>SingleLane-Accident-2014</td>\n",
       "      <td>7961.0</td>\n",
       "    </tr>\n",
       "  </tbody>\n",
       "</table>\n",
       "</div>"
      ],
      "text/plain": [
       "               State                  variable   value\n",
       "0     Andhra Pradesh  SingleLane-Accident-2014  8634.0\n",
       "1  Arunachal Pradesh  SingleLane-Accident-2014    90.0\n",
       "2              Assam  SingleLane-Accident-2014  3888.0\n",
       "3              Bihar  SingleLane-Accident-2014  3731.0\n",
       "4       Chhattisgarh  SingleLane-Accident-2014  7961.0"
      ]
     },
     "execution_count": 80,
     "metadata": {},
     "output_type": "execute_result"
    }
   ],
   "source": [
    "#Melting experiment\n",
    "#https://pandas.pydata.org/pandas-docs/stable/generated/pandas.melt.html\n",
    "pd.melt(sample_df, id_vars=['State'], value_vars=['SingleLane-Accident-2014']).head()"
   ]
  },
  {
   "cell_type": "code",
   "execution_count": 84,
   "metadata": {},
   "outputs": [
    {
     "data": {
      "text/html": [
       "<div>\n",
       "<table border=\"1\" class=\"dataframe\">\n",
       "  <thead>\n",
       "    <tr style=\"text-align: right;\">\n",
       "      <th></th>\n",
       "      <th>State</th>\n",
       "      <th>NoOfLane</th>\n",
       "      <th>AccidentCount</th>\n",
       "    </tr>\n",
       "  </thead>\n",
       "  <tbody>\n",
       "    <tr>\n",
       "      <th>0</th>\n",
       "      <td>Andhra Pradesh</td>\n",
       "      <td>SingleLane-Accident-2014</td>\n",
       "      <td>8634.0</td>\n",
       "    </tr>\n",
       "    <tr>\n",
       "      <th>1</th>\n",
       "      <td>Arunachal Pradesh</td>\n",
       "      <td>SingleLane-Accident-2014</td>\n",
       "      <td>90.0</td>\n",
       "    </tr>\n",
       "    <tr>\n",
       "      <th>2</th>\n",
       "      <td>Assam</td>\n",
       "      <td>SingleLane-Accident-2014</td>\n",
       "      <td>3888.0</td>\n",
       "    </tr>\n",
       "    <tr>\n",
       "      <th>3</th>\n",
       "      <td>Bihar</td>\n",
       "      <td>SingleLane-Accident-2014</td>\n",
       "      <td>3731.0</td>\n",
       "    </tr>\n",
       "    <tr>\n",
       "      <th>4</th>\n",
       "      <td>Chhattisgarh</td>\n",
       "      <td>SingleLane-Accident-2014</td>\n",
       "      <td>7961.0</td>\n",
       "    </tr>\n",
       "  </tbody>\n",
       "</table>\n",
       "</div>"
      ],
      "text/plain": [
       "               State                  NoOfLane  AccidentCount\n",
       "0     Andhra Pradesh  SingleLane-Accident-2014         8634.0\n",
       "1  Arunachal Pradesh  SingleLane-Accident-2014           90.0\n",
       "2              Assam  SingleLane-Accident-2014         3888.0\n",
       "3              Bihar  SingleLane-Accident-2014         3731.0\n",
       "4       Chhattisgarh  SingleLane-Accident-2014         7961.0"
      ]
     },
     "execution_count": 84,
     "metadata": {},
     "output_type": "execute_result"
    }
   ],
   "source": [
    "#Impact of Lanes on Accidents\n",
    "lanes_vs_accidents_df = pd.melt(road_features_df, id_vars=['State'], value_vars=['SingleLane-Accident-2014','TwoLanes-Accident-2014','3LanesOrMoreW.OMedian-Accident-2014','4LanesWithMedian-Accident-2014'])\n",
    "lanes_vs_accidents_df.columns = ['State','NoOfLane','AccidentCount']\n",
    "lanes_vs_accidents_df.head()"
   ]
  },
  {
   "cell_type": "code",
   "execution_count": 86,
   "metadata": {},
   "outputs": [
    {
     "data": {
      "text/html": [
       "<div>\n",
       "<table border=\"1\" class=\"dataframe\">\n",
       "  <thead>\n",
       "    <tr style=\"text-align: right;\">\n",
       "      <th></th>\n",
       "      <th></th>\n",
       "      <th>AccidentCount</th>\n",
       "    </tr>\n",
       "    <tr>\n",
       "      <th>State</th>\n",
       "      <th>NoOfLane</th>\n",
       "      <th></th>\n",
       "    </tr>\n",
       "  </thead>\n",
       "  <tbody>\n",
       "    <tr>\n",
       "      <th rowspan=\"4\" valign=\"top\">Andaman &amp; Nicobar Islands</th>\n",
       "      <th>3LanesOrMoreW.OMedian-Accident-2014</th>\n",
       "      <td>1.0</td>\n",
       "    </tr>\n",
       "    <tr>\n",
       "      <th>4LanesWithMedian-Accident-2014</th>\n",
       "      <td>3.0</td>\n",
       "    </tr>\n",
       "    <tr>\n",
       "      <th>SingleLane-Accident-2014</th>\n",
       "      <td>99.0</td>\n",
       "    </tr>\n",
       "    <tr>\n",
       "      <th>TwoLanes-Accident-2014</th>\n",
       "      <td>115.0</td>\n",
       "    </tr>\n",
       "    <tr>\n",
       "      <th>Andhra Pradesh</th>\n",
       "      <th>3LanesOrMoreW.OMedian-Accident-2014</th>\n",
       "      <td>1188.0</td>\n",
       "    </tr>\n",
       "  </tbody>\n",
       "</table>\n",
       "</div>"
      ],
      "text/plain": [
       "                                                               AccidentCount\n",
       "State                     NoOfLane                                          \n",
       "Andaman & Nicobar Islands 3LanesOrMoreW.OMedian-Accident-2014            1.0\n",
       "                          4LanesWithMedian-Accident-2014                 3.0\n",
       "                          SingleLane-Accident-2014                      99.0\n",
       "                          TwoLanes-Accident-2014                       115.0\n",
       "Andhra Pradesh            3LanesOrMoreW.OMedian-Accident-2014         1188.0"
      ]
     },
     "execution_count": 86,
     "metadata": {},
     "output_type": "execute_result"
    }
   ],
   "source": [
    "#Group lane wise accidents counts by state\n",
    "lanes_vs_accidents_grp = lanes_vs_accidents_df.groupby(['State','NoOfLane']).sum()\n",
    "lanes_vs_accidents_grp.head()"
   ]
  },
  {
   "cell_type": "code",
   "execution_count": 96,
   "metadata": {},
   "outputs": [
    {
     "data": {
      "text/plain": [
       "<matplotlib.text.Text at 0x117bf0f10>"
      ]
     },
     "execution_count": 96,
     "metadata": {},
     "output_type": "execute_result"
    },
    {
     "data": {
      "image/png": "[encoded data removed]",
      "text/plain": [
       "<matplotlib.figure.Figure at 0x117a15b90>"
      ]
     },
     "metadata": {},
     "output_type": "display_data"
    }
   ],
   "source": [
    "#Visualize accident counts for each state - Lane wise accident counts should be stacked up\n",
    "lanes_plot = lanes_vs_accidents_grp.unstack().plot(figsize=(14,6), kind='bar',stacked=True,title=\"Impact of Lanes on Accidents\", fontsize='large')\n",
    "lanes_plot.set_xlabel(\"States\")\n",
    "lanes_plot.set_ylabel(\"Total Number of Accidents\")"
   ]
  },
  {
   "cell_type": "code",
   "execution_count": null,
   "metadata": {},
   "outputs": [],
   "source": []
  }
 ],
 "metadata": {
  "kernelspec": {
   "display_name": "Python 2",
   "language": "python",
   "name": "python2"
  },
  "language_info": {
   "codemirror_mode": {
    "name": "ipython",
    "version": 2
   },
   "file_extension": ".py",
   "mimetype": "text/x-python",
   "name": "python",
   "nbconvert_exporter": "python",
   "pygments_lexer": "ipython2",
   "version": "2.7.11"
  }
 },
 "nbformat": 4,
 "nbformat_minor": 2
}
